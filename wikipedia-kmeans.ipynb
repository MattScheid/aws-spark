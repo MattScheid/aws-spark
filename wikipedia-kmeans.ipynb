{
 "cells": [
  {
   "cell_type": "code",
   "execution_count": 80,
   "metadata": {},
   "outputs": [],
   "source": [
    "import numpy as np\n",
    "import pandas as pd\n",
    "import string\n",
    "import re\n",
    "\n",
    "from nltk.tokenize import word_tokenize\n",
    "from nltk.corpus import stopwords\n",
    "from nltk.stem.porter import PorterStemmer\n",
    "\n",
    "from pyspark.ml.clustering import KMeans\n",
    "from pyspark.ml.feature import CountVectorizer, IDF\n",
    "from pyspark.sql.functions import udf, col\n",
    "from pyspark.sql.types import ArrayType, StringType\n",
    "from pyspark.sql import Row\n",
    "\n",
    "PUNCTUATION = set(string.punctuation)\n",
    "STOPWORDS = set(stopwords.words('english'))"
   ]
  },
  {
   "cell_type": "code",
   "execution_count": 3,
   "metadata": {},
   "outputs": [],
   "source": [
    "wiki_df = spark.read.json('s3a://galv-wiki-data/wiki_mini/*/')"
   ]
  },
  {
   "cell_type": "code",
   "execution_count": 10,
   "metadata": {},
   "outputs": [
    {
     "data": {
      "text/plain": [
       "128889"
      ]
     },
     "execution_count": 10,
     "metadata": {},
     "output_type": "execute_result"
    }
   ],
   "source": [
    "wiki_df.count()"
   ]
  },
  {
   "cell_type": "code",
   "execution_count": 4,
   "metadata": {},
   "outputs": [
    {
     "name": "stdout",
     "output_type": "stream",
     "text": [
      "root\n",
      " |-- id: string (nullable = true)\n",
      " |-- text: string (nullable = true)\n",
      " |-- title: string (nullable = true)\n",
      " |-- url: string (nullable = true)\n",
      "\n"
     ]
    }
   ],
   "source": [
    "wiki_df.printSchema()"
   ]
  },
  {
   "cell_type": "code",
   "execution_count": 8,
   "metadata": {},
   "outputs": [
    {
     "name": "stdout",
     "output_type": "stream",
     "text": [
      "+-----+--------------------+--------------------+--------------------+\n",
      "|   id|                text|               title|                 url|\n",
      "+-----+--------------------+--------------------+--------------------+\n",
      "|84786|Meiji period\n",
      "\n",
      "The...|        Meiji period|https://en.wikipe...|\n",
      "|84789|Wim Duisenberg\n",
      "\n",
      "W...|      Wim Duisenberg|https://en.wikipe...|\n",
      "|84790|Sleepy Hollow\n",
      "\n",
      "Sl...|       Sleepy Hollow|https://en.wikipe...|\n",
      "|84791|The Legend of Sle...|The Legend of Sle...|https://en.wikipe...|\n",
      "|84792|Timeline of Mongo...|Timeline of Mongo...|https://en.wikipe...|\n",
      "+-----+--------------------+--------------------+--------------------+\n",
      "only showing top 5 rows\n",
      "\n"
     ]
    }
   ],
   "source": [
    "wiki_df.show(5)"
   ]
  },
  {
   "cell_type": "code",
   "execution_count": 4,
   "metadata": {},
   "outputs": [
    {
     "data": {
      "text/plain": [
       "DataFrame[id: string, text: string, title: string, url: string]"
      ]
     },
     "execution_count": 4,
     "metadata": {},
     "output_type": "execute_result"
    }
   ],
   "source": [
    "wiki_df.cache()"
   ]
  },
  {
   "cell_type": "code",
   "execution_count": 5,
   "metadata": {},
   "outputs": [
    {
     "data": {
      "text/plain": [
       "DataFrame[id: string, text: string, title: string, url: string]"
      ]
     },
     "execution_count": 5,
     "metadata": {},
     "output_type": "execute_result"
    }
   ],
   "source": [
    "wiki_samp = wiki_df.sample(fraction=0.01, withReplacement=False)\n",
    "wiki_samp.cache()"
   ]
  },
  {
   "cell_type": "code",
   "execution_count": 17,
   "metadata": {},
   "outputs": [
    {
     "name": "stdout",
     "output_type": "stream",
     "text": [
      "+------+--------------------+--------------------+--------------------+\n",
      "|    id|                text|               title|                 url|\n",
      "+------+--------------------+--------------------+--------------------+\n",
      "| 89822|Pez\n",
      "\n",
      "Pez (tradema...|                 Pez|https://en.wikipe...|\n",
      "| 89984|Child development...|Child development...|https://en.wikipe...|\n",
      "|193263|Leonard Chang\n",
      "\n",
      "Le...|       Leonard Chang|https://en.wikipe...|\n",
      "| 40977|International Cry...|International Cry...|https://en.wikipe...|\n",
      "| 41061|Department of Def...|Department of Def...|https://en.wikipe...|\n",
      "+------+--------------------+--------------------+--------------------+\n",
      "only showing top 5 rows\n",
      "\n"
     ]
    }
   ],
   "source": [
    "wiki_samp.show(5)"
   ]
  },
  {
   "cell_type": "code",
   "execution_count": 6,
   "metadata": {},
   "outputs": [],
   "source": [
    "def tokenize(text):\n",
    "    regex = re.compile('<.+?>|[^a-zA-Z]')\n",
    "    clean_txt = regex.sub(' ', text)\n",
    "    tokens = clean_txt.split()\n",
    "    lowercased = [t.lower() for t in tokens]\n",
    "\n",
    "    no_punctuation = []\n",
    "    for word in lowercased:\n",
    "        punct_removed = ''.join([letter for letter in word if not letter in PUNCTUATION])\n",
    "        no_punctuation.append(punct_removed)\n",
    "    no_stopwords = [w for w in no_punctuation if not w in STOPWORDS]\n",
    "\n",
    "    STEMMER = PorterStemmer()\n",
    "    stemmed = [STEMMER.stem(w) for w in no_stopwords]\n",
    "    return [w for w in stemmed if w]"
   ]
  },
  {
   "cell_type": "code",
   "execution_count": 7,
   "metadata": {},
   "outputs": [],
   "source": [
    "tokenize_udf = udf(tokenize, ArrayType(StringType()))"
   ]
  },
  {
   "cell_type": "code",
   "execution_count": 8,
   "metadata": {},
   "outputs": [],
   "source": [
    "tokenized_df = wiki_samp.withColumn('tokens', tokenize_udf(col('text')))"
   ]
  },
  {
   "cell_type": "code",
   "execution_count": 25,
   "metadata": {},
   "outputs": [
    {
     "name": "stdout",
     "output_type": "stream",
     "text": [
      "root\n",
      " |-- id: string (nullable = true)\n",
      " |-- text: string (nullable = true)\n",
      " |-- title: string (nullable = true)\n",
      " |-- url: string (nullable = true)\n",
      " |-- tokens: array (nullable = true)\n",
      " |    |-- element: string (containsNull = true)\n",
      "\n"
     ]
    }
   ],
   "source": [
    "tokenized_df.printSchema()"
   ]
  },
  {
   "cell_type": "code",
   "execution_count": 49,
   "metadata": {},
   "outputs": [],
   "source": [
    "cv = CountVectorizer(minDF=10, vocabSize=5000, inputCol='tokens', outputCol='vectors')"
   ]
  },
  {
   "cell_type": "code",
   "execution_count": 60,
   "metadata": {},
   "outputs": [],
   "source": [
    "vec_model = cv.fit(tokenized_df)"
   ]
  },
  {
   "cell_type": "code",
   "execution_count": 68,
   "metadata": {},
   "outputs": [
    {
     "name": "stdout",
     "output_type": "stream",
     "text": [
      "['year', 'also', 'state', 'use', 'one', 'citi', 'age', 'includ', 'first', 'new', 'two', 'time', 'popul', 'famili', 'unit', 'household', 'live', 'area', 'name', 'peopl', 'mani', 'american', 'may', 'counti', 'work', 'school', 'part', 'would', 'nation', 'th', 'world', 'made', 'femal', 'gener', 'town', 'known', 'averag', 'north', 'hous', 'govern', 'form', 'later', 'call', 'univers', 'system', 'follow', 'incom', 'three', 'howev', 'median', 'well', 'number', 'war', 'develop', 'becam', 'male', 'per', 'centuri', 'censu', 'origin', 'river', 'sever', 'day', 'found', 'race', 'record', 'sinc', 'play', 'locat', 'high', 'group', 'public', 'land', 'line', 'base', 'present', 'film', 'accord', 'south', 'earli', 'place', 'countri', 'servic', 'church', 'oper', 'everi', 'size', 'game', 'make', 'major', 'larg', 'end', 'like', 'second', 'produc', 'provid', 'appear', 'build', 'member', 'show', 'differ', 'life', 'older', 'set', 'region', 'commun', 'local', 'result', 'forc', 'elect', 'book', 'chang', 'four', 'home', 'although', 'continu', 'resid', 'product', 'densiti', 'seri', 'design', 'non', 'mile', 'around', 'power', 'squar', 'releas', 'parti', 'often', 'children', 'white', 'west', 'point', 'km', 'support', 'serv', 'u', 'term', 'intern', 'open', 'water', 'organ', 'album', 'compani', 'increas', 'award', 'perform', 'could', 'establish', 'order', 'individu', 'island', 'remain', 'control', 'publish', 'british', 'began', 'becom', 'exampl', 'long', 'within', 'even', 'receiv', 'anoth', 'john', 'law', 'among', 'along', 'togeth', 'east', 'creat', 'total', 'villag', 'refer', 'offic', 'music', 'import', 'million', 'effect', 'mean', 'much', 'e', 'de', 'old', 'colleg', 'york', 'st', 'station', 'due', 'move', 'educ', 'district', 'great', 'small', 'consid', 'caus', 'act', 'associ', 'level', 'start', 'featur', 'natur', 'addit', 'council', 'season', 'take', 'death', 'last', 'lead', 'built', 'center', 'period', 'return', 'student', 'king', 'complet', 'said', 'engin', 'run', 'best', 'success', 'allow', 'french', 'studi', 'right', 'presid', 'main', 'way', 'nativ', 'stori', 'close', 'author', 'marri', 'still', 'person', 'central', 'polit', 'park', 'human', 'back', 'english', 'township', 'late', 'final', 'rout', 'song', 'activ', 'five', 'role', 'led', 'plan', 'program', 'modern', 'process', 'singl', 'special', 'industri', 'us', 'case', 'contain', 'popular', 'tradit', 'march', 'site', 'histori', 'repres', 'speci', 'near', 'describ', 'offici', 'england', 'common', 'current', 'requir', 'claim', 'left', 'team', 'c', 'scienc', 'space', 'held', 'report', 'histor', 'posit', 'languag', 'court', 'star', 'took', 'die', 'action', 'januari', 'armi', 'charact', 'african', 'fire', 'wrote', 'light', 'relat', 'coupl', 'third', 'street', 'give', 'juli', 'bodi', 'london', 'cell', 'write', 'union', 'issu', 'direct', 'husband', 'road', 'cultur', 'rule', 'former', 'month', 'offer', 'air', 'independ', 'septemb', 'without', 'though', 'version', 'william', 'project', 'construct', 'octob', 'field', 'largest', 'alon', 'titl', 'given', 'rate', 'attack', 'wide', 'june', 'word', 'trade', 'art', 'band', 'black', 'social', 'sourc', 'exist', 'makeup', 'german', 'manag', 'battl', 'decemb', 'initi', 'b', 'pass', 'christian', 'april', 'franc', 'see', 'plant', 'variou', 'event', 'involv', 'type', 'list', 'similar', 'side', 'respons', 'help', 'possibl', 'southern', 'head', 'usual', 'train', 'note', 'begin', 'top', 'connect', 'racial', 'turn', 'someon', 'n', 'rang', 'come', 'critic', 'need', 'reach', 'spread', 'father', 'six', 'militari', 'occur', 'georg', 'market', 'v', 'practic', 'bank', 'born', 'august', 'believ', 'came', 'research', 'written', 'date', 'institut', 'liber', 'novemb', 'lake', 'consist', 'less', 'men', 'northern', 'inform', 'televis', 'vote', 'econom', 'kill', 'collect', 'ship', 'young', 'influenc', 'cover', 'busi', 'greek', 'function', 'recent', 'valley', 'ii', 'free', 'good', 'formula', 'hill', 'god', 'travel', 'club', 'mayor', 'potenti', 'littl', 'network', 'man', 'g', 'other', 'say', 'societi', 'western', 'son', 'european', 'civil', 'hispan', 'fall', 'america', 'go', 'technolog', 'attempt', 'roman', 'leader', 'replac', 'limit', 'class', 'low', 'signific', 'experi', 'februari', 'comput', 'suggest', 'throughout', 'problem', 'thu', 'next', 'standard', 'view', 'capit', 'structur', 'leagu', 'feder', 'eventu', 'cross', 'privat', 'continent', 'royal', 'latino', 'movement', 'poverti', 'hall', 'garden', 'sea', 'ad', 'sometim', 'separ', 'p', 'join', 'carolina', 'tri', 'interest', 'command', 'green', 'materi', 'reduc', 'democrat', 'protect', 'port', 'hand', 'empir', 'seen', 'washington', 'never', 'border', 'express', 'half', 'anim', 'bureau', 'short', 'seat', 'women', 'across', 'minist', 'summer', 'arriv', 'love', 'either', 'asian', 'today', 'method', 'middl', 'food', 'meet', 'carri', 'lost', 'rock', 'centr', 'legal', 'observ', 'charg', 'despit', 'avail', 'r', 'capita', 'varieti', 'must', 'valu', 'versu', 'administr', 'global', 'instead', 'territori', 'kingdom', 'properti', 'introduc', 'red', 'condit', 'especi', 'full', 'channel', 'stage', 'jame', 'sequenc', 'idea', 'host', 'airport', 'depart', 'mother', 'municip', 'sound', 'leav', 'europ', 'account', 'bay', 'stop', 'mountain', 'board', 'rank', 'wife', 'object', 'announc', 'get', 'week', 'medic', 'almost', 'model', 'element', 'select', 'specif', 'rel', 'pacif', 'estim', 'toward', 'health', 'religi', 'actual', 'physic', 'post', 'lower', 'maintain', 'episod', 'divis', 'thoma', 'l', 'china', 'novel', 'player', 'promot', 'transport', 'magazin', 'upon', 'cathol', 'borough', 'share', 'find', 'whose', 'went', 'entir', 'radio', 'concept', 'improv', 'data', 'cdp', 'thought', 'access', 'festiv', 'forest', 'eastern', 'cost', 'flow', 'secur', 'artist', 'typic', 'ground', 'chines', 'mark', 'grant', 'growth', 'rather', 'seven', 'fact', 'appoint', 'coloni', 'degre', 'provinc', 'least', 'la', 'combin', 'effort', 'defin', 'subject', 'subsequ', 'prime', 'prize', 'enter', 'hour', 'commerci', 'win', 'higher', 'energi', 'christma', 'contribut', 'achiev', 'style', 'face', 'sign', 'want', 'spanish', 'profession', 'electr', 'missouri', 'test', 'ask', 'spring', 'complex', 'divid', 'saint', 'robert', 'blood', 'respect', 'depend', 'foreign', 'translat', 'soviet', 'hit', 'reason', 'except', 'link', 'celebr', 'memori', 'indian', 'writer', 'incorpor', 'night', 'compar', 'real', 'annual', 'percent', 'pope', 'approxim', 'gain', 'edit', 'attend', 'accept', 'deriv', 'regard', 'earth', 'numer', 'canada', 'sport', 'self', 'signal', 'notabl', 'economi', 'brother', 'fund', 'advanc', 'campaign', 'uk', 'visit', 'charl', 'mari', 'particularli', 'f', 'far', 'australia', 'friend', 'code', 'fiction', 'grow', 'decid', 'al', 'gave', 'career', 'measur', 'hold', 'mid', 'suffer', 'extens', 'read', 'california', 'rais', 'put', 'purpos', 'launch', 'coast', 'reform', 'figur', 'cours', 'concern', 'holiday', 'employ', 'track', 'constitut', 'propos', 'polici', 'peak', 'altern', 'execut', 'museum', 'broadcast', 'away', 'hospit', 'san', 'librari', 'angel', 'determin', 'adopt', 'railway', 'saw', 'question', 'evid', 'tour', 'arm', 'opposit', 'ancient', 'via', 'highest', 'germani', 'strong', 'extend', 'adapt', 'agent', 'conserv', 'queen', 'olymp', 'theori', 'surviv', 'convent', 'acid', 'h', 'remov', 'abl', 'academi', 'airlin', 'particular', 'fight', 'look', 'rise', 'branch', 'agricultur', 'round', 'outsid', 'governor', 'manufactur', 'lack', 'own', 'winter', 'taken', 'theatr', 'review', 'climat', 'brought', 'director', 'ever', 'tree', 'fish', 'particip', 'earlier', 'hunt', 'wave', 'multipl', 'simon', 'david', 'bill', 'diseas', 'sent', 'declin', 'emerg', 'paul', 'k', 'committe', 'format', 'address', 'temperatur', 'surround', 'scene', 'soon', 'distanc', 'distinct', 'section', 'money', 'primari', 'hors', 'henri', 'certain', 'suppli', 'fort', 'stand', 'intellig', 'larger', 'probabl', 'big', 'flight', 'mechan', 'j', 'settlement', 'co', 'machin', 'thing', 'bridg', 'might', 'stone', 'assist', 'amount', 'softwar', 'coleman', 'super', 'harri', 'era', 'nearbi', 'shape', 'latin', 'polic', 'foundat', 'africa', 'russian', 'financi', 'ten', 'imag', 'senat', 'virginia', 'chief', 'smith', 'rest', 'wing', 'doubl', 'attract', 'wall', 'corpor', 'appli', 'regist', 'identifi', 'definit', 'gold', 'child', 'directli', 'blue', 'met', 'letter', 'learn', 'approach', 'russia', 'relationship', 'italian', 'occupi', 'scientif', 'factor', 'daughter', 'frequent', 'statu', 'eight', 'greater', 'republ', 'famou', 'indic', 'transfer', 'copi', 'length', 'itali', 'matter', 'volum', 'knowledg', 'store', 'situat', 'conduct', 'longer', 'mention', 'document', 'devic', 'immedi', 'loss', 'whether', 'x', 'defeat', 'decis', 'britain', 'destroy', 'nearli', 'parent', 'anti', 'peac', 'fail', 'promin', 'aircraft', 'commonli', 'articl', 'actor', 'previou', 'color', 'care', 'tv', 'vari', 'room', 'sens', 'resist', 'statist', 'minor', 'nomin', 'suprem', 'expand', 'commiss', 'yet', 'therefor', 'reserv', 'argu', 'agre', 'purchas', 'cut', 'australian', 'assembl', 'discuss', 'upper', 'phase', 'sold', 'applic', 'reveal', 'urban', 'classic', 'challeng', 'regular', 'refus', 'decad', 'domin', 'discov', 'futur', 'defens', 'front', 'integr', 'lie', 'footbal', 'competit', 'medicin', 'comic', 'latter', 'speak', 'mostli', 'instruct', 'press', 'alway', 'recogn', 'wild', 'compos', 'normal', 'protest', 'irish', 'damag', 'cast', 'save', 'clear', 'lord', 'gene', 'confer', 'captur', 'birth', 'movi', 'drug', 'declar', 'text', 'creek', 'billion', 'parliament', 'nine', 'basi', 'formal', 'ireland', 'leadership', 'block', 'prevent', 'wake', 'alreadi', 'chart', 'mass', 'split', 'teach', 'true', 'better', 'prepar', 'highway', 'metropolitan', 'peter', 'settl', 'goal', 'progress', 'programm', 'seem', 'surfac', 'pattern', 'key', 'qualiti', 'keep', 'finish', 'smaller', 'shop', 'termin', 'custom', 'troop', 'oil', 'demonstr', 'inhabit', 'lo', 'regul', 'symbol', 'facil', 'distribut', 'tool', 'girl', 'cup', 'portion', 'eddi', 'transit', 'earn', 'floor', 'instrument', 'behind', 'hundr', 'w', 'campu', 'equip', 'legisl', 'know', 'religion', 'prior', 'newspap', 'extrem', 'heart', 'explain', 'expect', 'pre', 'boy', 'restor', 'inspir', 'thousand', 'mainli', 'breed', 'bird', 'treatment', 'scale', 'adult', 'primarili', 'equat', 'stadium', 'nuclear', 'affect', 'stay', 'job', 'tax', 'conflict', 'cycl', 'intend', 'tower', 'drop', 'canadian', 'camp', 'scholar', 'content', 'matrix', 'told', 'principl', 'shot', 'woman', 'master', 'preserv', 'piu', 'highli', 'farm', 'past', 'pressur', 'bring', 'exchang', 'botan', 'concentr', 'drive', 'investig', 'hot', 'shown', 'digit', 'mill', 'contract', 'hook', 'poor', 'print', 'graduat', 'defend', 'contemporari', 'paper', 'ga', 'prove', 'eye', 'railroad', 'credit', 'brown', 'secretari', 'scientist', 'chamber', 'murder', 'detail', 'interpret', 'rome', 'metal', 'export', 'controversi', 'media', 'video', 'richard', 'alic', 'obtain', 'honor', 'engag', 'lee', 'tank', 'avoid', 'patient', 'spent', 'basic', 'enough', 'match', 'treati', 'studio', 'heat', 'domest', 'sector', 'rare', 'correspond', 'car', 'mr', 'cooper', 'pari', 'bishop', 'reflect', 'voic', 'citizen', 'electron', 'kind', 'whole', 'republican', 'think', 'wood', 'agreement', 'candid', 'score', 'environ', 'step', 'fourth', 'mix', 'arab', 'alli', 'nobel', 'japan', 'explor', 'wine', 'bc', 'oppos', 'equal', 'implement', 'gun', 'sing', 'abil', 'pennsylvania', 'atlant', 'confeder', 'ceremoni', 'fli', 'cold', 'victori', 'pay', 'previous', 'compet', 'teacher', 'traffic', 'techniqu', 'charter', 'mount', 'michael', 'shift', 'resourc', 'seal', 'mexico', 'freedom', 'risk', 'piec', 'northwest', 'licens', 'dr', 'perman', 'dog', 'israel', 'princ', 'user', 'congress', 'worker', 'historian', 'speed', 'wilson', 'rural', 'heavi', 'spain', 'approv', 'judg', 'essenti', 'difficult', 'arena', 'box', 'sister', 'consider', 'demand', 'break', 'ident', 'internet', 'invent', 'revolut', 'tell', 'mind', 'theme', 'actress', 'bedford', 'soldier', 'favor', 'understand', 'jewish', 'greatest', 'greec', 'iii', 'bomb', 'fleet', 'benefit', 'deal', 'shore', 'wale', 'andrew', 'architectur', 'poem', 'minut', 'weapon', 'instanc', 'reaction', 'unlik', 'yard', 'mission', 'journal', 'moor', 'jew', 'contest', 'ultim', 'dialect', 'passeng', 'emperor', 'chemic', 'labor', 'trial', 'pilot', 'sell', 'paint', 'intens', 'solut', 'simpli', 'concert', 'beach', 'minnesota', 'display', 'cluster', 'tribe', 'quickli', 'reconstruct', 'elev', 'brain', 'contrast', 'price', 'owner', 'remot', 'hope', 'settler', 'news', 'agenc', 'quit', 'drama', 'burn', 'literatur', 'tend', 'nova', 'wyom', 'aid', 'creation', 'transform', 'loui', 'navi', 'marriag', 'insid', 'grew', 'organis', 'avenu', 'walk', 'instal', 'apart', 'tie', 'sale', 'voltag', 'ran', 'evolut', 'id', 'treat', 'comment', 'sweden', 'princip', 'marin', 'retain', 'ocean', 'sexual', 'membran', 'cannot', 'grand', 'abu', 'vocat', 'page', 'contact', 'iron', 'duti', 'debat', 'earliest', 'height', 'impact', 'commit', 'persian', 'doctor', 'vehicl', 'headquart', 'crew', 'hotel', 'ban', 'presenc', 'mi', 'le', 'danc', 'search', 'expans', 'adventur', 'formerli', 'transmiss', 'bear', 'bit', 'balanc', 'jersey', 'arrang', 'draw', 'encourag', 'coordin', 'staff', 'conclud', 'skill', 'prison', 'abandon', 'bowl', 'philosoph', 'done', 'neg', 'literari', 'championship', 'rail', 'joseph', 'fit', 'boundari', 'texa', 'daili', 'reject', 'physician', 'dri', 'fell', 'hard', 'sir', 'worldwid', 'differenti', 'renam', 'fruit', 'edg', 'disput', 'parish', 'patent', 'massachusett', 'arlington', 'soul', 'count', 'vector', 'genet', 'pair', 'environment', 'dark', 'trail', 'entiti', 'roll', 'atom', 'technic', 'fan', 'convert', 'talk', 'resign', 'illustr', 'consequ', 'succeed', 'examin', 'oxford', 'aim', 'incid', 'dead', 'schedul', 'india', 'asia', 'compon', 'belief', 'secondari', 'fulli', 'meter', 'capac', 'carrier', 'jesu', 'feed', 'aspect', 'founder', 'flood', 'crown', 'feel', 'lane', 'canal', 'deep', 'rich', 'distinguish', 'prefer', 'consum', 'retir', 'guitar', 'decreas', 'mine', 'zone', 'albert', 'perhap', 'frequenc', 'switch', 'estat', 'skin', 'boston', 'steel', 'file', 'gate', 'virtual', 'golden', 'let', 'champion', 'martin', 'plain', 'possess', 'lose', 'angl', 'premier', 'task', 'islam', 'fill', 'secret', 'depict', 'japanes', 'core', 'script', 'corp', 'tourist', 'ann', 'desir', 'philosophi', 'layer', 'convers', 'southeast', 'oxid', 'nd', 'revers', 'cancer', 'guid', 'spirit', 'pitch', 'ethnic', 'ladi', 'none', 'berri', 'wind', 'twin', 'cite', 'grade', 'enabl', 'flag', 'occas', 'ill', 'beyond', 'rd', 'label', 'advantag', 'crime', 'interview', 'belong', 'weight', 'tissu', 'compris', 'chicago', 'salt', 'norwegian', 'screen', 'allianc', 'singer', 'downtown', 'dam', 'scott', 'necessari', 'underground', 'poet', 'choic', 'happen', 'paid', 'enterpris', 'sex', 'rose', 'constant', 'oldest', 'strike', 'uniqu', 'dynasti', 'chain', 'biolog', 'target', 'modul', 'assign', 'horn', 'sun', 'statement', 'simpl', 'planet', 'invest', 'van', 'opportun', 'deni', 'characterist', 'interact', 'deliv', 'divers', 'quarter', 'explos', 'stock', 'discoveri', 'athlet', 'descend', 'bu', 'shortli', 'assum', 'acquir', 'academ', 'audienc', 'invas', 'silver', 'wit', 'ring', 'circl', 'handl', 'twice', 'analysi', 'fame', 'felt', 'fifth', 'dutch', 'map', 'dollar', 'medium', 'edward', 'vice', 'attent', 'surgeri', 'expens', 'ray', 'negoti', 'radic', 'newli', 'portray', 'egg', 'capabl', 'pop', 'realm', 'collabor', 'survey', 'pain', 'partner', 'elimin', 'moral', 'scotland', 'ion', 'immigr', 'heavili', 'entri', 'promis', 'seek', 'appropri', 'coin', 'path', 'focus', 'kept', 'elementari', 'ministri', 'evolv', 'ramp', 'debut', 'dedic', 'escap', 'exhibit', 'captain', 'pictur', 'restrict', 'entertain', 'enjoy', 'presidenti', 'seriou', 'tale', 'chosen', 'mental', 'merg', 'fear', 'root', 'editor', 'fellow', 'threat', 'fuel', 'stream', 'entitl', 'vocal', 'gift', 'howard', 'communist', 'professor', 'invit', 'equival', 'partial', 'fm', 'lyric', 'composit', 'socialist', 'request', 'cabl', 'northeast', 'robinson', 'beam', 'enemi', 'forward', 'occasion', 'confirm', 'twenti', 'someth', 'naval', 'respond', 'gender', 'senior', 'revolutionari', 'ice', 'vessel', 'amateur', 'templ', 'justic', 'intent', 'musician', 'palac', 'miss', 'sentenc', 'buri', 'affair', 'woodland', 'faith', 'holi', 'ford', 'zealand', 'increasingli', 'procedur', 'focu', 'accompani', 'motion', 'speech', 'rapid', 'detect', 'concord', 'effici', 'migrat', 'guard', 'bar', 'mediev', 'youth', 'wound', 'multi', 'adam', 'jazz', 'swedish', 'orient', 'connecticut', 'southwest', 'heard', 'reign', 'dramat', 'substanti', 'slightli', 'optic', 'correct', 'websit', 'answer', 'coastal', 'sustain', 'priest', 'permit', 'victor', 'mathemat', 'glass', 'realiti', 'spoken', 'overal', 'watch', 'labour', 'columbia', 'papal', 'spend', 'nazi', 'firm', 'russel', 'struggl', 'significantli', 'johnson', 'arrest', 'protein', 'journey', 'regim', 'satellit', 'factori', 'expedit', 'baltimor', 'clock', 'basin', 'appeal', 'easili', 'etc', 'lewi', 'christ', 'parallel', 'exercis', 'net', 'fur', 'metric', 'slow', 'florida', 'fair', 'profit', 'arkansa', 'pro', 'categori', 'platform', 'sought', 'appar', 'legend', 'modifi', 'extinct', 'morn', 'twelv', 'suit', 'farmer', 'plane', 'carbon', 'briefli', 'noth', 'scheme', 'occup', 'boat', 'motor', 'attribut', 'grey', 'victoria', 'variat', 'drum', 'plate', 'basebal', 'relief', 'enzym', 'chapel', 'francisco', 'recreat', 'failur', 'card', 'encount', 'jet', 'tabl', 'pioneer', 'alexand', 'imperi', 'heritag', 'beat', 'isol', 'solo', 'favour', 'suffici', 'compound', 'moment', 'lectur', 'ohio', 'alcohol', 'ottoman', 'navig', 'lot', 'bound', 'safeti', 'opera', 'destruct', 'palm', 'danger', 'luigi', 'franchis', 'jean', 'muslim', 'destin', 'flat', 'budget', 'circuit', 'realli', 'currenc', 'visitor', 'interior', 'warren', 'spell', 'unknown', 'compil', 'foot', 'pick', 'meant', 'eat', 'otherwis', 'admir', 'divin', 'slave', 'bbc', 'narrow', 'guest', 'grown', 'peninsula', 'hire', 'regiment', 'kansa', 'lawyer', 'mouth', 'monument', 'shoot', 'jr', 'descript', 'classifi', 'send', 'admit', 'copper', 'baptist', 'gather', 'georgia', 'enrol', 'maximum', 'alter', 'ensur', 'realiz', 'bond', 'disord', 'coach', 'attach', 'greatli', 'michigan', 'cancel', 'semi', 'ego', 'snow', 'repeat', 'accus', 'mobil', 'fine', 'interst', 'sixth', 'fix', 'exclus', 'util', 'fast', 'hear', 'comedi', 'window', 'sugar', 'stem', 'frank', 'harbour', 'debt', 'vertic', 'wish', 'ward', 'substanc', 'rapidli', 'gradual', 'trust', 'seed', 'impress', 'anthem', 'neighborhood', 'plastic', 'proport', 'chase', 'trait', 'superior', 'introduct', 'medal', 'messag', 'trent', 'variant', 'reviv', 'heal', 'revenu', 'analog', 'crop', 'moon', 'passag', 'duke', 'miner', 'veget', 'conquest', 'awar', 'broke', 'hero', 'spiritu', 'add', 'pursu', 'gdp', 'intellectu', 'joint', 'context', 'beauti', 'fluid', 'vs', 'manuscript', 'roughli', 'recognis', 'elizabeth', 'devot', 'dna', 'sampl', 'load', 'billboard', 'crisi', 'choos', 'plot', 'cambridg', 'tom', 'restaur', 'bacon', 'tone', 'affili', 'remark', 'cathedr', 'got', 'fundament', 'crash', 'crimin', 'norway', 'laid', 'desert', 'legislatur', 'geograph', 'enforc', 'harbor', 'onto', 'ago', 'adjac', 'neither', 'el', 'dvd', 'trip', 'experienc', 'younger', 'output', 'speaker', 'prohibit', 'sweet', 'unabl', 'photograph', 'difficulti', 'taylor', 'option', 'voter', 'alleg', 'classif', 'reduct', 'bob', 'strength', 'plymouth', 'particl', 'swiss', 'interfer', 'neighbor', 'inherit', 'index', 'cardin', 'laser', 'extern', 'recal', 'sail', 'winner', 'bed', 'hostil', 'castl', 'goe', 'recognit', 'mysteri', 'isra', 'predict', 'tourism', 'denomin', 'mississippi', 'penetr', 'character', 'polish', 'trace', 'maryland', 'henc', 'fee', 'dc', 'hip', 'calendar', 'broad', 'row', 'visual', 'stabil', 'theolog', 'recommend', 'magnet', 'brand', 'newton', 'wisconsin', 'doctrin', 'widespread', 'merchant', 'financ', 'whale', 'reli', 'draft', 'coalit', 'donat', 'strongli', 'fought', 'mm', 'wherea', 'combat', 'rebellion', 'massiv', 'romanc', 'drink', 'netherland', 'mar', 'delta', 'franklin', 'extra', 'et', 'delay', 'kent', 'ac', 'innov', 'arthur', 'disabl', 'abbey', 'fragment', 'du', 'egypt', 'threaten', 'oak', 'lay', 'segment', 'item', 'frame', 'zero', 'ideal', 'corrupt', 'advis', 'membership', 'reader', 'column', 'welsh', 'protocol', 'athen', 'houston', 'colour', 'manner', 'variabl', 'truth', 'scottish', 'tributari', 'employe', 'eighteen', 'resolut', 'alongsid', 'hop', 'ruler', 'jackson', 'habitat', 'ross', 'pronounc', 'louisiana', 'partnership', 'franci', 'brook', 'commission', 'attorney', 'similarli', 'sum', 'counter', 'plead', 'transmit', 'drain', 'autobiographi', 'lock', 'courag', 'predat', 'strip', 'notic', 'oxygen', 'hub', 'successor', 'deploy', 'leaf', 'colorado', 'ix', 'min', 'atmospher', 'struck', 'behavior', 'recov', 'sq', 'usa', 'prais', 'del', 'session', 'stretch', 'advoc', 'peru', 'monitor', 'solid', 'soil', 'symptom', 'civilian', 'defenc', 'nerv', 'rescu', 'giant', 'phrase', 'bought', 'victim', 'diet', 'linear', 'cape', 'lynch', 'psycholog', 'spoke', 'tail', 'erect', 'chairman', 'algorithm', 'corner', 'extent', 'background', 'intersect', 'mike', 'denver', 'induct', 'influenti', 'induc', 'proof', 'wear', 'mediterranean', 'molecul', 'tunnel', 'perfect', 'vision', 'emigr', 'sensit', 'somewhat', 'yellow', 'feet', 'anyth', 'convict', 'processor', 'qualif', 'calcul', 'sub', 'cloth', 'proper', 'interchang', 'confus', 'weather', 'injuri', 'ball', 'rocket', 'chapter', 'exposur', 'samuel', 'mexican', 'raid', 'mere', 'inde', 'stood', 'dub', 'indigen', 'anniversari', 'straight', 'neuron', 'austria', 'withdraw', 'entranc', 'punish', 'fiber', 'vast', 'weekli', 'reput', 'sole', 'deposit', 'reloc', 'essay', 'assault', 'switzerland', 'jack', 'dream', 'austrian', 'miami', 'storm', 'rent', 'kernel', 'xi', 'revis', 'gulf', 'trek', 'harrison', 'cabinet', 'shell', 'worship', 'di', 'cemeteri', 'suicid', 'depress', 'provis', 'coal', 'collaps', 'lieuten', 'sky', 'sunday', 'impli', 'acr', 'ferri', 'childhood', 'drawn', 'ethic', 'broadway', 'oppon', 'knew', 'servant', 'ratio', 'faculti', 'iv', 'congreg', 'emot', 'un', 'mode', 'proceed', 'landscap', 'hole', 'orang', 'theorem', 'swamp', 'error', 'opinion', 'qualifi', 'ancestor', 'mall', 'clark', 'bad', 'smoke', 'smooth', 'disappear', 'genu', 'closer', 'bone', 'allen', 'preced', 'substitut', 'nevertheless', 'bell', 'spark', 'easi', 'yield', 'pump', 'chanc', 'hypothesi', 'simultan', 'charlott', 'mutat', 'spot', 'folk', 'domain', 'unsuccess', 'expos', 'merger', 'sight', 'quantiti', 'absorb', 'radiat', 'advertis', 'outstand', 'politician', 'commerc', 'talent', 'resembl', 'offens', 'montana', 'jurisdict', 'chees', 'poetri', 'rival', 'sit', 'von', 'dioces', 'worth', 'genr', 'tenant', 'violent', 'saturday', 'mu', 'lifetim', 'scout', 'residenti', 'argument', 'represent', 'ride', 'provinci', 'marshal', 'tactic', 'rugbi', 'assassin', 'walter', 'alien', 'begun', 'wait', 'matthew', 'fox', 'nicknam', 'unusu', 'ballot', 'ahead', 'sponsor', 'acceler', 'miller', 'venu', 'montreal', 'globe', 'margaret', 'wildlif', 'jay', 'huge', 'bronz', 'accommod', 'drew', 'leg', 'davi', 'ben', 'minimum', 'comparison', 'cook', 'babi', 'enhanc', 'buy', 'recruit', 'clinic', 'liter', 'prosper', 'bush', 'kennedi', 'insur', 'coat', 'warn', 'junction', 'volunt', 'commemor', 'sleep', 'bottom', 'saxon', 'visibl', 'orbit', 'journalist', 'lodg', 'chariti', 'liquid', 'norman', 'renew', 'facilit', 'gen', 'magic', 'odd', 'prophet', 'deputi', 'massacr', 'insist', 'undergradu', 'reinforc', 'personnel', 'forgotten', 'tropic', 'princess', 'perceiv', 'gordon', 'imposs', 'absolut', 'indiana', 'disciplin', 'bibl', 'packag', 'door', 'everyth', 'illinoi', 'els', 'ceas', 'poland', 'denot', 'daniel', 'afterward', 'render', 'relev', 'ancestri', 'experiment', 'democraci', 'poll', 'theater', 'insect', 'philadelphia', 'grape', 'dakota', 'hebrew', 'regularli', 'quebec', 'precis', 'chan', 'joe', 'atlanta', 'push', 'infrastructur', 'unemploy', 'kong', 'mammal', 'motiv', 'wire', 'pack', 'phone', 'milton', 'consumpt', 'crowd', 'administ', 'divorc', 'cattl', 'iraq', 'mainland', 'convinc', 'bro', 'puls', 'resolv', 'honour', 'egyptian', 'chose', 'hart', 'infantri', 'ignor', 'urg', 'brief', 'orthodox', 'temporari', 'hunter', 'elsewher', 'veloc', 'z', 'marvel', 'onlin', 'bachelor', 'complic', 'assess', 'suppress', 'alfr', 'retail', 'pull', 'oliv', 'depth', 'tube', 'partli', 'fashion', 'string', 'freeway', 'empti', 'absenc', 'bce', 'wonder', 'assert', 'astronom', 'lowest', 'excess', 'converg', 'punk', 'spin', 'dismiss', 'solar', 'humid', 'thick', 'flower', 'breast', 'muscl', 'dress', 'driven', 'input', 'juri', 'wireless', 'mytholog', 'hampshir', 'receptor', 'dissolv', 'weak', 'longest', 'stress', 'potter', 'vers', 'meal', 'seattl', 'gay', 'friendship', 'resort', 'compact', 'sicili', 'friendli', 'sort', 'certifi', 'suppos', 'lincoln', 'heaven', 'emphas', 'vatican', 'bind', 'annex', 'ridg', 'rememb', 'acclaim', 'conclus', 'daylight', 'casualti', 'diverg', 'jone', 'driver', 'tension', 'decor', 'architect', 'anthoni', 'pan', 'golf', 'armor', 'mortal', 'conjectur', 'pie', 'anglo', 'santa', 'condemn', 'landmark', 'automat', 'injur', 'span', 'chri', 'brigad', 'laboratori', 'fortun', 'hang', 'virtu', 'web', 'integ', 'understood', 'matur', 'tip', 'canon', 'accid', 'rotat', 'stabl', 'surpris', 'carol', 'oral', 'moder', 'gross', 'topolog', 'framework', 'broken', 'colonel', 'potato', 'deleg', 'cultiv', 'diari', 'outdoor', 'cavalri', 'trigger', 'sieg', 'militia', 'roger', 'violenc', 'neighbour', 'filter', 'manchest', 'ongo', 'ton', 'excel', 'telescop', 'storag', 'expert', 'ownership', 'mutual', 'warm', 'profess', 'imagin', 'strateg', 'besid', 'leas', 'infinit', 'toni', 'craft', 'pure', 'specul', 'tokyo', 'excav', 'maria', 'hong', 'safe', 'pool', 'harvest', 'strategi', 'grove', 'happi', 'oscar', 'acut', 'korea', 'tobacco', 'robot', 'renov', 'basketbal', 'gospel', 'mainstream', 'oblig', 'unincorpor', 'biggest', 'configur', 'myth', 'revolt', 'billi', 'amend', 'fals', 'colon', 'emphasi', 'rain', 'abund', 'laureat', 'retreat', 'timber', 'nbc', 'alan', 'junior', 'ontario', 'quot', 'accur', 'cool', 'perspect', 'chronic', 'te', 'gone', 'fate', 'apollo', 'solv', 'berlin', 'suburban', 'bomber', 'wider', 'archaeolog', 'iowa', 'jump', 'taught', 'bacteria', 'juvenil', 'lawrenc', 'fold', 'uniform', 'chronicl', 'trap', 'invad', 'payment', 'exploit', 'codic', 'circul', 'sixti', 'neutral', 'evalu', 'winston', 'funer', 'steve', 'rocki', 'check', 'stephen', 'guitarist', 'loan', 'consult', 'doom', 'somerset', 'pursuit', 'roof', 'exceed', 'earl', 'vietnam', 'reportedli', 'ear', 'cd', 'seventh', 'constitu', 'pine', 'extract', 'canton', 'victorian', 'persuad', 'hinduism', 'usag', 'diplomat', 'confid', 'reproduct', 'readi', 'listen', 'accomplish', 'usd', 'microscop', 'jim', 'dispers', 'birthday', 'panel', 'philip', 'jacob', 'da', 'jimmi', 'finit', 'fantasi', 'linguist', 'painter', 'deliber', 'alexandria', 'infect', 'caught', 'troubl', 'predecessor', 'frost', 'rush', 'mint', 'elector', 'missil', 'fossil', 'pc', 'documentari', 'repair', 'accumul', 'inner', 'exil', 'mad', 'inc', 'tune', 'weigh', 'ritual', 'evil', 'harmoni', 'thermal', 'q', 'passion', 'sand', 'mitchel', 'hamilton', 'eighth', 'persist', 'amongst', 'alaska', 'watersh', 'welfar', 'nebraska', 'notion', 'terrorist', 'telecommun', 'touch', 'artifici', 'manipul', 'dual', 'precipit', 'meat', 'triangl', 'comprehens', 'fission', 'abroad', 'throne', 'acknowledg', 'surrend', 'galleri', 'wage', 'prompt', 'topic', 'expel', 'bass', 'pathway', 'prey', 'dozen', 'portugues', 'ballad', 'renaiss', 'hide', 'metro', 'lift', 'specifi', 'adher', 'aristotl', 'thin', 'valuabl', 'wast', 'embark', 'edmund', 'sharp', 'pollut', 'publicli', 'inch', 'goddess', 'doubt', 'liberti', 'diamet', 'conscious', 'mate', 'bend', 'artilleri', 'hair', 'suburb', 'defect', 'loop', 'encompass', 'wealthi', 'teenag', 'thirti', 'suspect', 'exact', 'ventur', 'wheel', 'wealth', 'creativ', 'judici', 'cb', 'familiar', 'steam', 'log', 'guy', 'dimension', 'asset', 'milk', 'bath', 'madison', 'parasit', 'grammi', 'mont', 'attitud', 'abbrevi', 'stimul', 'upgrad', 'crystal', 'meanwhil', 'metabol', 'exit', 'repeatedli', 'rebuilt', 'thank', 'isaac', 'logic', 'rear', 'impos', 'warrior', 'assumpt', 'cousin', 'highlight', 'abolish', 'memoir', 'uncl', 'satisfi', 'strang', 'constantin', 'feast', 'oregon', 'minim', 'pearl', 'cave', 'fairli', 'biograph', 'graphic', 'han', 'mail', 'fertil', 'der', 'percentag', 'colonist', 'archbishop', 'subspeci', 'courthous', 'audio', 'lloyd', 'fighter', 'hurrican', 'violat', 'suitabl', 'reservoir', 'baker', 'furthermor', 'lutheran', 'manhattan', 'romant', 'prospect', 'prioriti', 'beef', 'supplement', 'wooden', 'manual', 'shield', 'uniti', 'ruin', 'advic', 'obama', 'abstract', 'commut', 'fewer', 'autumn', 'mp', 'exclud', 'tribal', 'diagram', 'illeg', 'dish', 'dave', 'pittsburgh', 'invers', 'monthli', 'forti', 'lion', 'camera', 'frederick', 'betray', 'phenomenon', 'luther', 'drainag', 'detroit', 'neck', 'complaint', 'fresh', 'antenna', 'swim', 'circumst', 'phoenix', 'theoret', 'dens', 'client', 'arc', 'vulner', 'etern', 'tendenc', 'autonom', 'disc', 'hollywood', 'ed', 'disast', 'utah', 'bright', 'inaugur', 'exhaust', 'departur', 'explan', 'grain', 'fulfil', 'algebra', 'trend', 'caribbean', 'wed', 'southeastern', 'abraham', 'dean', 'icon', 'parliamentari', 'sacrific', 'tennesse', 'inter', 'nurs', 'exempt', 'confront', 'permiss', 'anderson', 'clean', 'portrait', 'therapi', 'epic', 'addict', 'creator', 'denni', 'orchestra', 'evolutionari', 'afford', 'react', 'brick', 'referendum', 'gray', 'christoph', 'biographi', 'modif', 'plu', 'jerusalem', 'elit', 'rebel', 'activist', 'salem', 'disrupt', 'quarri', 'lobbi', 'toler', 'persecut', 'valid', 'bitter', 'endur', 'sam', 'isl', 'erupt', 'ti', 'iran', 'secular', 'si', 'maritim', 'illumin', 'systemat', 'slowli', 'toxic', 'renown', 'inhibit', 'unifi', 'behalf', 'korean', 'clearli', 'supervis', 'potteri', 'thereaft', 'fifti', 'throw', 'juan', 'soft', 'dwell', 'inject', 'ordin', 'invis', 'inland', 'sphere', 'dominican', 'wavelength', 'resum', 'antiqu', 'sarah', 'legaci', 'interv', 'sword', 'sick', 'excit', 'humor', 'fran', 'petit', 'sang', 'uss', 'poison', 'mirror', 'sovereign', 'undergo', 'appreci', 'do', 'slaveri', 'earthquak', 'ralli', 'grass', 'brazil', 'nest', 'stroke', 'gilbert', 'chemistri', 'mixtur', 'adjust', 'exactli', 'puerto', 'com', 'fatal', 'hamlet', 'ali', 'welcom', 'grave', 'grandfath', 'methodist', 'gregori', 'ration', 'anglican', 'hybrid', 'attain', 'nobl', 'fork', 'flank', 'rage', 'turkey', 'spi', 'mediat', 'arch', 'toronto', 'tea', 'descent', 'profil', 'synthesi', 'celtic', 'dioxid', 'newport', 'rifl', 'archiv', 'songwrit', 'behaviour', 'eaten', 'coincid', 'soundtrack', 'rainfal', 'amino', 'catherin', 'pastor', 'beij', 'consolid', 'hell', 'aros', 'pension', 'stamp', 'vienna', 'commentari', 'inn', 'gap', 'asid', 'baron', 'dynam', 'pierr', 'bristol', 'prototyp', 'prosecut', 'oversea', 'carrol', 'certif', 'signatur', 'whilst', 'methyl', 'ne', 'seiz', 'beck', 'outer', 'frontier', 'submit', 'aviat', 'testament', 'ex', 'hardwar', 'truck', 'remaind', 'tast', 'upris', 'virgin', 'suspend', 'forev', 'shall', 'honorari', 'captiv', 'sydney', 'ecolog', 'chair', 'transact', 'pole', 'necessarili', 'patron', 'silk', 'intermedi', 'grate', 'parad', 'eleven', 'jefferson', 'narr', 'donald', 'cat', 'nichola', 'aggress', 'denmark', 'rental', 'motorway', 'wright', 'telephon', 'ller', 'salari', 'cent', 'faster', 'polar', 'unless', 'metr', 'congression', 'faction', 'plantat', 'pound', 'proxim', 'confluenc', 'nanci', 'mason', 'accredit', 'nonetheless', 'lesser', 'defici', 'blow', 'hugh', 'streak', 'tournament', 'turkish', 'anna', 'anyon', 'outcom', 'antonio', 'serial', 'viewer', 'jo', 'prayer', 'alpha', 'discharg', 'hydrogen', 'tomb', 'en', 'colt', 'squadron', 'abus', 'propag', 'finger', 'nervou', 'downstream', 'ideolog', 'missionari', 'mild', 'barrier', 'nationalist', 'scandal', 'recess', 'belgium', 'pupil', 'confederaci', 'equilibrium', 'quaker', 'corridor', 'diabet', 'byzantin', 'herald', 'presum', 'everyon', 'drag', 'curv', 'blind', 'deck', 'contin', 'soup', 'grace', 'clergi', 'brien', 'ordinari', 'ppen', 'ukrain', 'reliev', 'hull', 'norfolk', 'oklahoma', 'pipe', 'shock', 'textil', 'tripl', 'jail', 'government', 'knight', 'posthum', 'tribut', 'squad', 'bless', 'underli', 'platinum', 'irrig', 'tall', 'optim', 'biblic', 'aunt', 'tempor', 'reliabl', 'abc', 'cure', 'jane', 'rough', 'rhode', 'ronald', 'rhythm', 'lamp', 'queensland', 'enact', 'veteran', 'harm', 'physiolog', 'proven', 'milan', 'birmingham', 'patch', 'bruce', 'weekend', 'margin', 'random', 'leather', 'easier', 'residu', 'infant', 'flourish', 'therebi', 'amplitud', 'mainten', 'edinburgh', 'syria', 'hockey', 'guarante', 'commonwealth', 'deiti', 'serious', 'endors', 'certainli', 'postal', 'strain', 'fled', 'ambassador', 'dispatch', 'tuition', 'hemispher', 'shut', 'kilometr', 'catch', 'statut', 'len', 'conceiv', 'databas', 'cartoon', 'hudson', 'shakespear', 'cinema', 'pin', 'reunit', 'dimens', 'insert', 'preach', 'ferment', 'carl', 'witch', 'iso', 'discontinu', 'mandat', 'pleasur', 'forth', 'duck', 'diana', 'elabor', 'hidden', 'ash', 'flavor', 'copyright', 'adequ', 'onward', 'commenc', 'propel', 'tract', 'palmer', 'arteri', 'encod', 'withdrew', 'treasur', 'intervent', 'audit', 'cameron', 'enlarg', 'devil', 'sequel', 'penalti', 'coher', 'nineteenth', 'swing', 'northeastern', 'forum', 'fat', 'pa', 'clerk', 'logo', 'temper', 'gland', 'aris', 'endang', 'flew', 'offset', 'molecular', 'transcript', 'patriot', 'freight', 'brig', 'napoleon', 'tini', 'kid', 'sa', 'sacr', 'culmin', 'reproduc', 'mac', 'recept', 'scope', 'twentieth', 'server', 'amplifi', 'aliv', 'properli', 'cash', 'piano', 'alphabet', 'obviou', 'fortress', 'ralph', 'herd', 'temporarili', 'sculptur', 'bore', 'nick', 'corn', 'reactiv', 'stuart', 'plaza', 'melbourn', 'boxer', 'updat', 'dock', 'heath', 'loyalti', 'sure', 'costum', 'deliveri', 'anchor', 'terror', 'arnold', 'rebuild', 'precursor', 'johann', 'monarch', 'harvard', 'lawsuit', 'manor', 'raw', 'voyag', 'dictionari', 'plateau', 'wrong', 'fr', 'serbia', 'armstrong', 'multipli', 'bread', 'volcano', 'tech', 'coverag', 'ink', 'borrow', 'jonathan', 'nato', 'refug', 'lili', 'lumber', 'protagonist', 'deem', 'pleas', 'tile', 'crucial', 'spare', 'guinea', 'poorli', 'creatur', 'dick', 'flexibl', 'apprenticeship', 'monasteri', 'imprison', 'taiwan', 'bull', 'carv', 'gang', 'smallest', 'battlefield', 'genesi', 'southwestern', 'routin', 'voluntari', 'predominantli', 'uranium', 'fourteen', 'belt', 'carter', 'favorit', 'plagu', 'demolish', 'consensu', 'outlin', 'identif', 'ant', 'eugen', 'boom', 'thrive', 'devis', 'fri', 'coup', 'midland', 'likewis', 'practition', 'congo', 'murray', 'ce', 'bid', 'radar', 'civic', 'loos', 'jerri', 'benjamin', 'philippin', 'strengthen', 'wallac', 'wheat', 'dawn', 'elig', 'snake', 'spike', 'sheep', 'colleagu', 'pharmaceut', 'cap', 'bug', 'beta', 'cm', 'prevail', 'interfac', 'fifteen', 'morgan', 'mansion', 'chocol', 'norm', 'sin', 'delawar', 'hierarchi', 'pose', 'drummer', 'conquer', 'halt', 'ammunit', 'pen', 'prairi', 'enorm', 'swap', 'elder', 'madrid', 'ra', 'cede', 'cellular', 'guardian', 'stronger', 'matern', 'sung', 'symphoni', 'highland', 'cotton', 'deton', 'be', 'knock', 'ensu', 'ron', 'consol', 'regardless', 'antholog', 'healthcar', 'estuari', 'shelter', 'jacqu', 'unanim', 'drift', 'bare', 'inflat', 'confess', 'meadow', 'willi', 'moreov', 'duplic', 'habit', 'displac', 'revel', 'anonym', 'burial', 'malaysia', 'fi', 'consecut', 'impuls', 'garner', 'bean', 'stick', 'homosexu', 'benefici', 'compens', 'comfort', 'nationwid', 'batteri', 'unclear', 'fabric', 'buddhist', 'tragedi', 'mormon', 'analyz', 'nose', 'compromis', 'ghost', 'clay', 'indoor', 'dinner', 'repli', 'refuge', 'granit', 'lover', 'scatter', 'marsh', 'jami', 'friday', 'loyal', 'fring', 'julian', 'shorter', 'closur', 'parker', 'liver', 'psychiatr', 'geneva', 'brian', 'inscript', 'float', 'boulevard', 'strict', 'slope', 'harold', 'fallen', 'altitud', 'specialist', 'testifi', 'silent', 'juliu', 'subdivis', 'afternoon', 'scriptur', 'emiss', 'degrad', 'horizont', 'vacanc', 'bia', 'preval', 'barrel', 'admiss', 'dragon', 'deepli', 'transmitt', 'sheriff', 'flee', 'proclaim', 'dial', 'anger', 'spur', 'hitler', 'campbel', 'dougla', 'investor', 'graviti', 'hollow', 'scholarship', 'tribun', 'lesson', 'conjunct', 'livestock', 'surpass', 'submarin', 'arid', 'clinton', 'consent', 'devast', 'healthi', 'dig', 'iraqi', 'trademark', 'gaug', 'roosevelt', 'counterpart', 'montgomeri', 'gari', 'closest', 'titan', 'contradict', 'rod', 'analys', 'microsoft', 'width', 'eagl', 'basilica', 'monetari', 'teeth', 'northwestern', 'dose', 'rico', 'syrian', 'foster', 'melodi', 'morocco', 'steven', 'millennium', 'augustin', 'worst', 'spite', 'barack', 'pride', 'richmond', 'embrac', 'complain', 'rubber', 'munich', 'wet', 'nutrient', 'will', 'fbi', 'blame', 'walker', 'soccer', 'buddhism', 'pave', 'dissent', 'metaphys', 'concret', 'node', 'cliff', 'artwork', 'embed', 'vi', 'warner', 'tide', 'holland', 'aboard', 'photographi', 'detach', 'canyon', 'accident', 'recoveri', 'skull', 'insuffici', 'portabl', 'consciou', 'cornwal', 'dispos', 'formul', 'triniti', 'ms', 'feedback', 'vermont', 'ussr', 'underw', 'appl', 'companion', 'sheet', 'worm', 'singapor', 'apostl', 'na', 'lebanon', 'homer', 'brunswick', 'idaho', 'cognit', 'thompson', 'observatori', 'brooklyn', 'disturb', 'reynold', 'boost', 'inclus', 'recipi', 'nephew', 'freez', 'align', 'tim', 'ir', 'evacu', 'commod', 'bow', 'cult', 'reward', 'boast', 'legendari', 'distant', 'circular', 'inher', 'unoffici', 'strictli', 'patrick', 'syndic', 'hint', 'outbreak', 'inquiri', 'implic', 'narrat', 'drove', 'buffalo', 'sketch', 'layout', 'bulk', 'hat', 'pirat', 'ceo', 'manifest', 'pronunci', 'truste', 'harmon', 'cottag', 'westminst', 'surgeon', 'absent', 'diamond', 'correl', 'suddenli', 'trader', 'shallow', 'quick', 'trump', 'dan', 'rice', 'provok', 'su', 'syllabl', 'arctic', 'beneath', 'satir', 'runway', 'unconsci', 'stapl', 'reconnaiss', 'barbara', 'threshold', 'passiv', 'dictat', 'nearest', 'synonym', 'climb', 'simul', 'pond', 'riot', 'elv', 'monarchi', 'propheci', 'geolog', 'phenomena', 'explicitli', 'crush', 'bundl', 'testimoni', 'astronomi', 'physicist', 'percept', 'decay', 'steadi', 'recur', 'nut', 'rivalri', 'spray', 'ottawa', 'disadvantag', 'sudden', 'notat', 'youngest', 'supposedli', 'arabia', 'repress', 'nois', 'unfortun', 'orlean', 'gear', 'diego', 'subordin', 'cube', 'moscow', 'summit', 'wash', 'confin', 'sediment', 'demon', 'phillip', 'terrain', 'irregular', 'tenni', 'exterior', 'buse', 'nelson', 'holm', 'capitol', 'conting', 'gabriel', 'anomali', 'ecclesiast', 'thailand', 'charm', 'momentum', 'maxim', 'shaw', 'advisor', 'garrison', 'merit', 'pace', 'flagship', 'essex', 'infer', 'axi', 'authent', 'polytechn', 'hawaii', 'disagre', 'embassi', 'toll', 'valv', 'maker', 'endem', 'trivial', 'weaken', 'flame', 'ace', 'sr', 'tenur', 'regain', 'ku', 'diffus', 'sophist', 'luci', 'twist', 'headlin', 'widow', 'indefinit', 'extant', 'magnitud', 'horror', 'evan', 'obscur', 'jeff', 'scenic', 'decept', 'hay', 'tertiari', 'ranch', 'spectrum', 'cheap', 'lung', 'cleveland', 'jordan', 'shadow', 'santiago', 'lifelong', 'strand', 'truli', 'array', 'vacuum', 'bennett', 'till', 'durat', 'latest', 'danish', 'sandi', 'mathematician', 'miniatur', 'il', 'hawk', 'registr', 'judaism', 'obstruct', 'grammar', 'ninth', 'pit', 'indi', 'turnout', 'killer', 'ticket', 'portland', 'affin', 'spawn', 'tier', 'rabbit', 'genom', 'dot', 'roy', 'sink', 'footag', 'screenplay', 'constantli', 'hail', 'legitim', 'shaft', 'er', 'oi', 'choir', 'forg', 'indict', 'kg', 'leonard', 'automobil', 'mantl', 'wors', 'penn', 'heir', 'tornado', 'fortif', 'businessman', 'arrow', 'remnant', 'benedict', 'stewart', 'symmetr', 'gravit', 'tongu', 'guidanc', 'undertaken', 'jess', 'sweep', 'joel', 'urin', 'elderli', 'morpholog', 'darwin', 'pierc', 'marbl', 'shortag', 'spine', 'imf', 'fever', 'luxuri', 'aqueduct', 'eu', 'stronghold', 'mice', 'fed', 'humanitarian', 'cruis', 'forb', 'segreg', 'episcop', 'readili', 'stockholm', 'dislik', 'diagnos', 'ryan', 'cow', 'den', 'arizona', 'webster', 'fuller', 'leisur', 'rhyme', 'deplet', 'bust', 'bernard', 'countrysid', 'hostag', 'yugoslavia', 'plural', 'substrat', 'indonesia', 'playwright', 'novelist', 'disappoint', 'fusion', 'strait', 'bypass', 'threw', 'overlap', 'singular', 'cia', 'innoc', 'lifestyl', 'facto', 'pm', 'org', 'decre', 'characteris', 'mistak', 'counsel', 'rumour', 'chemist', 'reef', 'ch', 'regulatori', 'desper', 'pet', 'aftermath', 'blend', 'eas', 'criteria', 'overlook', 'ecosystem', 'sue', 'lab', 'cach', 'disband', 'googl', 'cleric', 'pig', 'hurt', 'suspens', 'thirteen', 'firefight', 'springfield', 'ambiti', 'pagan', 'johnston', 'harsh', 'predomin', 'vii', 'subset', 'liverpool', 'sulfur', 'johnni', 'reconcili', 'alarm', 'farther', 'tenth', 'michel', 'broadli', 'stanley', 'photo', 'gase', 'diploma', 'conform', 'seizur', 'reopen', 'crater', 'autobiograph', 'cochran', 'revolv', 'aggreg', 'rhine', 'dialogu', 'eri', 'dairi', 'lineag', 'privileg', 'subtrop', 'synthes', 'classroom', 'baptism', 'magistr', 'churchil', 'tiger', 'hazard', 'arguabl', 'kentucki', 'invertebr', 'contend', 'autom', 'villa', 'grandmoth', 'neglect', 'christi', 'battalion', 'vega', 'owe', 'expir', 'vocabulari', 'transpar', 'vital', 'accent', 'paramount', 'lighter', 'gothic', 'builder', 'folklor', 'bedroom', 'spontan', 'taxi', 'aborigin', 'biodivers', 'reson', 'nice', 'marker', 'surnam', 'slide', 'imit', 'badli', 'boil', 'alloc', 'consul', 'syndrom', 'pier', 'shanghai', 'worri', 'prefix', 'suspicion', 'tear', 'geometri', 'slogan', 'royalist', 'claus', 'influx', 'conceal', 'birthplac', 'curriculum', 'leo', 'kit', 'shuttl', 'runner', 'mg', 'prone', 'newer', 'reagan', 'larri', 'primit', 'semit', 'dublin', 'terminu', 'dietari', 'intercept', 'blank', 'melt', 'randolph', 'interim', 'alert', 'overwhelm', 'bout', 'cr', 'emit', 'acquaint', 'engrav', 'assimil', 'giovanni', 'allegheni', 'judgment', 'replic', 'grassland', 'tidal', 'keen', 'auction', 'jam', 'helen', 'ensembl', 'refin', 'dome', 'argentina', 'parkway', 'monopoli', 'brighton', 'fa', 'se', 'cricket', 'realist', 'redesign', 'saudi', 'secretli', 'ascend', 'drill', 'peel', 'acoust', 'tonn', 'grandson', 'nomad', 'autonomi', 'rumor', 'pleasant', 'westward', 'arsen', 'viabl', 'breach', 'incur', 'cypru', 'rick', 'bankruptci', 'powel', 'divert', 'remind', 'powder', 'ss', 'collector', 'atop', 'harvey', 'sentiment', 'ranger', 'gram', 'duet', 'dust', 'royalti', 'fatti', 'confisc', 'deed', 'suspici', 'whatev', 'tape', 'overcom', 'explod', 'shine', 'eve', 'compress', 'cairo', 'worn', 'anxieti', 'bag', 'ram', 'offshor', 'sack', 'sovereignti', 'signifi', 'disney', 'evangel', 'denounc', 'mankind', 'guilti', 'monster', 'jesuit', 'ca', 'vault', 'punch', 'forag', 'trilog', 'pivot', 'kick', 'rope', 'interrupt', 'verifi', 'commodor', 'nake', 'ferdinand', 'webb', 'immun', 'tin', 'repeal', 'supervisor', 'convey', 'disagr', 'fun', 'deer', 'rez', 'inventor', 'rehabilit', 'joke', 'suck', 'tran', 'wetland', 'embodi', 'limb', 'fare', 'herman', 'reissu', 'steadili', 'binari', 'est', 'tel', 'occurr', 'judiciari', 'realis', 'upstream', 'bike', 'palestin', 'axe', 'jewel', 'flash', 'czech', 'economist', 'enthusiast', 'criticis', 'alabama', 'levi', 'anywher', 'chancellor', 'correctli', 'sat', 'contamin', 'openli', 'sunni', 'subsidiari', 'enclos', 'neighbourhood', 'sermon', 'warfar', 'rio', 'bottl', 'patern', 'maneuv', 'supermarket', 'pavilion', 'andr', 'fountain', 'reluct', 'instinct', 'waterway', 'whenev', 'shorten', 'modest', 'au', 'sculptor', 'assur', 'portug', 'petroleum', 'explicit', 'immens', 'crossroad', 'coastlin', 'cuban', 'apex', 'ibm', 'proto', 'fiscal', 'reprint', 'pulp', 'justifi', 'cabin', 'simplifi', 'ba', 'subterranean', 'tight', 'invok', 'button', 'vicin', 'volcan', 'ep', 'trick', 'dine', 'herbert', 'turnpik', 'insight', 'longtim', 'fraud', 'sierra', 'ancestr', 'behav', 'hike', 'anticip', 'lucki', 'veto', 'eastward', 'parodi', 'emmi', 'baptiz', 'swept', 'barri', 'carlo', 'development', 'workshop', 'drought', 'overse', 'archaeologist', 'nors', 'kelli', 'guild', 'theatric', 'tudor', 'finest', 'vol', 'mood', 'midnight', 'protector', 'cincinnati', 'lafayett', 'conveni', 'trunk', 'rider', 'advers', 'synthet', 'nobodi', 'walt', 'martha', 'salvat', 'motif', 'ft', 'cuba', 'conductor', 'tire', 'institution', 'fritz', 'stranger', 'limeston', 'relax', 'micropolitan', 'discipl', 'catholic', 'weav', 'raven', 'fifa', 'bullet', 'reorgan', 'aquat', 'acquisit', 'risen', 'coffe', 'nevada', 'quiet', 'juic', 'clan', 'libya', 'emul', 'dei', 'baroqu', 'clement', 'concurr', 'propon', 'insan', 'jon', 'charli', 'scrap', 'apparatu', 'guess', 'galaxi', 'furnitur', 'superintend', 'prose', 'disguis', 'aw', 'scot', 'piston', 'semin', 'coil', 'slower', 'sheffield', 'hungari', 'reunion', 'glori', 'ski', 'butter', 'salli', 'inevit', 'pub', 'incomplet', 'dancer', 'ambigu', 'cloud', 'treatis', 'prehistor', 'curs', 'sanction', 'bombard', 'wander', 'vacant', 'vain', 'kindergarten', 'privaci', 'brave', 'regent', 'vineyard', 'teen', 'fastest', 'subdivid', 'fairi', 'favourit', 'firmli', 'http', 'patrol', 'everyday', 'incumb', 'chip', 'heavenli', 'hindu', 'refurbish', 'bacteri', 'digest', 'cole', 'pocket', 'cherri', 'mickey', 'widen', 'intermitt', 'mask', 'cargo', 'normandi', 'fisher', 'glasgow', 'latitud', 'authoritarian', 'sunshin', 'www', 'riversid', 'guidelin', 'glove', 'storylin', 'albeit', 'miracl', 'pillar', 'proce', 'migrant', 'pregnant', 'robin', 'uncertain', 'max', 'smash', 'andi', 'rectangular', 'pilgrim', 'ellen', 'joshua', 'martyr', 'stolen', 'deterior', 'zip', 'os', 'hammer', 'bold', 'stain', 'laurenc', 'terminolog', 'harper', 'afghanistan', 'watt', 'raini', 'hormon', 'wholli', 'demograph', 'unexpect', 'prolif', 'slot', 'essenc', 'fratern', 'oh', 'presbyterian', 'auto', 'holder', 'humanist', 'costa', 'aesthet', 'stake', 'breath', 'unrel', 'mural', 'aerial', 'travers', 'altogeth', 'beatl', 'freeli', 'notori', 'kevin', 'solubl', 'propuls', 'slip', 'advisori', 'thursday', 'lao', 'discret', 'prefectur', 'pact', 'sociolog', 'shoulder', 'enlighten', 'eleph', 'turner', 'distort', 'premium', 'mainlin', 'beard', 'outlet', 'fisheri', 'chile', 'wise', 'printer', 'crack', 'conven', 'coven', 'propaganda', 'subscrib', 'diagnosi', 'pink', 'subgroup', 'leak', 'kim', 'perfectli', 'preliminari', 'baltic', 'boss', 'analyt', 'duo', 'waterfal', 'ken', 'vocalist', 'lone', 'expressway', 'karl', 'chiefli', 'dissolut', 'viii', 'default', 'wilder', 'neolith', 'catalogu', 'shoe', 'communion', 'breakdown', 'villain', 'taxat', 'rat', 'prussia', 'landown', 'unstabl', 'funni', 'hymn', 'gateway', 'discrimin', 'beverag', 'beer', 'greet', 'curat', 'manuel', 'prestigi', 'prostitut', 'girlfriend', 'repris', 'tommi', 'echo', 'theologian', 'indirectli', 'amsterdam', 'peasant', 'shed', 'congest', 'romania', 'telegraph', 'recount', 'lengthi', 'raf', 'bulgaria', 'treasuri', 'oakland', 'dorothi', 'loyalist', 'flown', 'ph', 'shelf', 'chao', 'willow', 'diminish', 'memor', 'fuse', 'kenneth', 'mascot', 'kiss', 'rite', 'crow', 'plasma', 'allegedli', 'wherebi', 'unnam', 'hypothes', 'cater', 'practis', 'dessert', 'ian', 'lit', 'isabel', 'neo', 'withdrawn', 'vincent', 'dale', 'sensat', 'kenya', 'mod', 'interven', 'upward', 'deficit', 'geometr', 'premis', 'probe', 'electromagnet', 'sequenti', 'steal', 'hawaiian', 'insurg', 'sunlight', 'boot', 'whip', 'nicola', 'vomit', 'befriend', 'opt', 'cheer', 'rev', 'tolkien', 'chicken', 'fellowship', 'fake', 'lui', 'hampton', 'heroin', 'textbook', 'breakthrough', 'workforc', 'dicken', 'cannon', 'compat', 'stanc', 'textur', 'lean', 'shake', 'idol', 'circa', 'plato', 'hartford', 'spatial', 'arbitrari', 'seventi', 'phil', 'edwin', 'auxiliari', 'unrest', 'jenkin', 'pulitz', 'feather', 'pedestrian', 'purpl', 'promulg', 'stripe', 'punctuat', 'chronolog', 'sixteen', 'regener', 'freed', 'mentor', 'pend', 'repel', 'deeper', 'anni', 'sharpli', 'bred', 'inconsist', 'invert', 'contrari', 'silenc', 'mous', 'breakfast', 'oppress', 'plat', 'expertis', 'dental', 'mare', 'hind', 'helmet', 'pepper', 'bobbi', 'pike', 'motorcycl', 'messeng', 'alloy', 'theodor', 'stuff', 'garland', 'reconcil', 'flaw', 'relay', 'digniti', 'contributor', 'tuberculosi', 'aspir', 'chest', 'epidem', 'marc', 'honey', 'obsess', 'fred', 'resurrect', 'hectar', 'diagon', 'cri', 'nomine', 'lineup', 'gile', 'adolf', 'instructor', 'taller', 'paradox', 'pretend', 'matt', 'graze', 'vacat', 'ratifi', 'shannon', 'rejoin', 'dealt', 'improvis', 'partit', 'exert', 'oath', 'fenc', 'hatch', 'ted', 'static', 'graham', 'harder', 'complement', 'sioux', 'clash', 'partisan', 'crawford', 'thame', 'bonu', 'slight', 'heinrich', 're', 'blockad', 'upset', 'eric', 'clayton', 'litig', 'extraordinari', 'blade', 'subscript', 'inscrib', 'appalachian', 'otto', 'jungl', 'mandatori', 'shi', 'credibl', 'paramet', 'owen', 'cano', 'throat', 'choru', 'fortifi', 'wilhelm', 'metaphor', 'ho', 'eldest', 'noah', 'repertoir', 'escal', 'wednesday', 'rip', 'sri', 'amus', 'combust', 'helena', 'dj', 'focal', 'amaz', 'banner', 'constraint', 'forbidden', 'rape', 'demolit', 'entrench', 'friedrich', 'bat']\n"
     ]
    }
   ],
   "source": [
    "vocab = vec_model.vocabulary\n",
    "print(vocab)"
   ]
  },
  {
   "cell_type": "code",
   "execution_count": 61,
   "metadata": {},
   "outputs": [],
   "source": [
    "vectorized_df = vec_model.transform(tokenized_df)"
   ]
  },
  {
   "cell_type": "code",
   "execution_count": 52,
   "metadata": {},
   "outputs": [],
   "source": [
    "idf = IDF(minDocFreq=10, inputCol='vectors', outputCol='features')"
   ]
  },
  {
   "cell_type": "code",
   "execution_count": 53,
   "metadata": {},
   "outputs": [],
   "source": [
    "model = idf.fit(vectorized_df)"
   ]
  },
  {
   "cell_type": "code",
   "execution_count": 54,
   "metadata": {},
   "outputs": [],
   "source": [
    "feature_df = model.transform(vectorized_df)"
   ]
  },
  {
   "cell_type": "code",
   "execution_count": 56,
   "metadata": {},
   "outputs": [
    {
     "data": {
      "text/plain": [
       "DataFrame[id: string, text: string, title: string, url: string, tokens: array<string>, vectors: vector, features: vector]"
      ]
     },
     "execution_count": 56,
     "metadata": {},
     "output_type": "execute_result"
    }
   ],
   "source": [
    "feature_df.cache()"
   ]
  },
  {
   "cell_type": "code",
   "execution_count": 57,
   "metadata": {},
   "outputs": [],
   "source": [
    "km = KMeans(k=10)"
   ]
  },
  {
   "cell_type": "code",
   "execution_count": 58,
   "metadata": {},
   "outputs": [],
   "source": [
    "model = km.fit(feature_df)"
   ]
  },
  {
   "cell_type": "code",
   "execution_count": 62,
   "metadata": {},
   "outputs": [],
   "source": [
    "centers = model.clusterCenters()"
   ]
  },
  {
   "cell_type": "code",
   "execution_count": 72,
   "metadata": {},
   "outputs": [],
   "source": [
    "centers_sorted = np.flip(np.argsort(centers, axis=1), axis=1)"
   ]
  },
  {
   "cell_type": "code",
   "execution_count": 73,
   "metadata": {},
   "outputs": [
    {
     "data": {
      "text/plain": [
       "array([   5,   15,    6, ..., 1658, 4650, 4568])"
      ]
     },
     "execution_count": 73,
     "metadata": {},
     "output_type": "execute_result"
    }
   ],
   "source": []
  },
  {
   "cell_type": "code",
   "execution_count": 78,
   "metadata": {
    "scrolled": false
   },
   "outputs": [
    {
     "name": "stdout",
     "output_type": "stream",
     "text": [
      "\n",
      " Cluster center #0\n",
      " - citi\n",
      " - household\n",
      " - age\n",
      " - use\n",
      " - school\n",
      " - popul\n",
      " - new\n",
      " - game\n",
      " - univers\n",
      " - govern\n",
      "\n",
      " Cluster center #1\n",
      " - potenti\n",
      " - sexual\n",
      " - action\n",
      " - treat\n",
      " - scotland\n",
      " - rocket\n",
      " - cell\n",
      " - channel\n",
      " - trademark\n",
      " - self\n",
      "\n",
      " Cluster center #2\n",
      " - multipl\n",
      " - album\n",
      " - song\n",
      " - particl\n",
      " - alreadi\n",
      " - hit\n",
      " - manuscript\n",
      " - releas\n",
      " - disguis\n",
      " - isaac\n",
      "\n",
      " Cluster center #3\n",
      " - print\n",
      " - romanc\n",
      " - humanitarian\n",
      " - son\n",
      " - latino\n",
      " - robert\n",
      " - despit\n",
      " - motion\n",
      " - activist\n",
      " - london\n",
      "\n",
      " Cluster center #4\n",
      " - farm\n",
      " - pope\n",
      " - firm\n",
      " - di\n",
      " - deploy\n",
      " - borough\n",
      " - golf\n",
      " - church\n",
      " - reduct\n",
      " - detail\n",
      "\n",
      " Cluster center #5\n",
      " - v\n",
      " - engin\n",
      " - golden\n",
      " - fire\n",
      " - genu\n",
      " - design\n",
      " - bishop\n",
      " - shaft\n",
      " - mirror\n",
      " - adventur\n",
      "\n",
      " Cluster center #6\n",
      " - entertain\n",
      " - capac\n",
      " - previous\n",
      " - absenc\n",
      " - self\n",
      " - control\n",
      " - insid\n",
      " - iso\n",
      " - rich\n",
      " - grate\n",
      "\n",
      " Cluster center #7\n",
      " - avoid\n",
      " - decad\n",
      " - sing\n",
      " - donat\n",
      " - commit\n",
      " - round\n",
      " - pen\n",
      " - armi\n",
      " - corridor\n",
      " - soviet\n",
      "\n",
      " Cluster center #8\n",
      " - electr\n",
      " - river\n",
      " - allianc\n",
      " - missil\n",
      " - baltimor\n",
      " - character\n",
      " - shoot\n",
      " - von\n",
      " - employe\n",
      " - pro\n",
      "\n",
      " Cluster center #9\n",
      " - lord\n",
      " - speci\n",
      " - id\n",
      " - pair\n",
      " - medal\n",
      " - expos\n",
      " - select\n",
      " - organ\n",
      " - gray\n",
      " - carbon\n"
     ]
    }
   ],
   "source": [
    "for j, center in enumerate(centers_sorted):\n",
    "    print('\\n Cluster center #{}'.format(j))\n",
    "    for i in range(10):\n",
    "        print(' -',vocab[center[i]])\n"
   ]
  },
  {
   "cell_type": "code",
   "execution_count": null,
   "metadata": {},
   "outputs": [],
   "source": []
  }
 ],
 "metadata": {
  "kernelspec": {
   "display_name": "Python 3",
   "language": "python",
   "name": "python3"
  },
  "language_info": {
   "codemirror_mode": {
    "name": "ipython",
    "version": 3
   },
   "file_extension": ".py",
   "mimetype": "text/x-python",
   "name": "python",
   "nbconvert_exporter": "python",
   "pygments_lexer": "ipython3",
   "version": "3.7.0"
  }
 },
 "nbformat": 4,
 "nbformat_minor": 2
}
